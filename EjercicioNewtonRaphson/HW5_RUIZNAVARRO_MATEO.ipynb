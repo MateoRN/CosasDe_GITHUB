{
 "cells": [
  {
   "cell_type": "markdown",
   "metadata": {},
   "source": [
    "## Tareas Faltantes\n",
    "## Mateo Ruiz Navarro\n",
    "## 201418281"
   ]
  },
  {
   "cell_type": "markdown",
   "metadata": {},
   "source": [
    "## Tarea No.5"
   ]
  },
  {
   "cell_type": "code",
   "execution_count": 1,
   "metadata": {},
   "outputs": [],
   "source": [
    "import numpy as np\n",
    "import matplotlib.pyplot as plt"
   ]
  },
  {
   "cell_type": "code",
   "execution_count": 2,
   "metadata": {},
   "outputs": [],
   "source": [
    "# Condiciones de prueba: masas colgando verticalmente sin tensión T2\n",
    "L, L1, L2, L3  = 4, 4, 4, 4  # Longitudes\n",
    "W1, W2         = 10, 20      # Pesos"
   ]
  },
  {
   "cell_type": "code",
   "execution_count": 3,
   "metadata": {},
   "outputs": [
    {
     "name": "stdout",
     "output_type": "stream",
     "text": [
      "[1, 0, 1, 0, 1, 0, 10, 0, 20]\n"
     ]
    }
   ],
   "source": [
    "# 1.a (10 puntos)\n",
    "# \n",
    "# Establezca correctamente los valores numéricos de las condiciones\n",
    "# iniciales de prueba para una  configuración de 2 masas colgando \n",
    "# verticalmente con la tensión T2 = 0\n",
    "\n",
    "# Puede trabajar con \n",
    "#    y = [x0,...x8] \n",
    "# o con \n",
    "#    y=[x1, ... , x9] \n",
    "# siguiendo la notación del libro (eq 8.10)\n",
    "\n",
    "# Las condiciones iniciales se escogen con la configuración del sistema inicial. las tensiones T1 Y T2 serian\n",
    "# iguales a los pesos. Como la cuerda 2 no esta tensionada, esta completamente horizontal y el ángulo 2 es cero.\n",
    "\n",
    "x1 = 1\n",
    "x2 = 0\n",
    "x3 = 1\n",
    "x4 = 0\n",
    "x5 = 1\n",
    "x6 = 0\n",
    "x7 = 10\n",
    "x8 = 0\n",
    "x9 = 20\n",
    "\n",
    "# Vector y para la primera iteración\n",
    "y = [x1,x2,x3,x4,x5,x6,x7,x8,x9]\n",
    "print(y)"
   ]
  },
  {
   "cell_type": "code",
   "execution_count": 4,
   "metadata": {},
   "outputs": [],
   "source": [
    "# 1.b (10 puntos)\n",
    "# Escriba las nueve funciones f_i(y)\n",
    "\n",
    "def f_1(y):\n",
    "    return L1*y[3] + L2*y[4] + L3*y[5]- L\n",
    "\n",
    "def f_2(y):\n",
    "    return L1*y[0] + L2*y[1] - L3*y[2]\n",
    "\n",
    "def f_3(y):\n",
    "    return y[6]*y[0] - y[7]*y[1] - W1\n",
    "\n",
    "def f_4(y):\n",
    "    return y[6]*y[3] - y[7]*y[4]\n",
    "\n",
    "def f_5(y):\n",
    "    return y[7]*y[1] + y[8]*y[2]- W2\n",
    "\n",
    "def f_6(y):\n",
    "    return y[7]*y[4] - y[8]*y[5]\n",
    "\n",
    "def f_7(y):\n",
    "    return y[0]**2 + y[3]**2 - 1\n",
    "\n",
    "def f_8(y):\n",
    "    return y[1]**2 + y[4]**2 - 1\n",
    "\n",
    "def f_9(y):\n",
    "    return y[2]**2 + y[5]**2 - 1\n"
   ]
  },
  {
   "cell_type": "code",
   "execution_count": 5,
   "metadata": {},
   "outputs": [],
   "source": [
    "# 1.c (10 puntos)\n",
    "# Escriba una función f_vec(y) que retorne la eq. 8.12\n",
    "def f_vec(y):\n",
    "    return np.array([ f_1(y),f_2(y),f_3(y),f_4(y),f_5(y),f_6(y),f_7(y),f_8(y),f_9(y)])"
   ]
  },
  {
   "cell_type": "code",
   "execution_count": 6,
   "metadata": {},
   "outputs": [
    {
     "name": "stdout",
     "output_type": "stream",
     "text": [
      "[0 0 0 0 0 0 0 0 0]\n"
     ]
    }
   ],
   "source": [
    "# 1.d (10 puntos)\n",
    "# \n",
    "# Verifique que con nuestras condiciones de prueba, \n",
    "# (masas colgando verticalmente),\n",
    "# se cumple f_vec(y) = 0\n",
    "\n",
    "vec = f_vec(y)\n",
    "print(vec)"
   ]
  },
  {
   "cell_type": "code",
   "execution_count": 7,
   "metadata": {},
   "outputs": [],
   "source": [
    "# 1.e (10 puntos)\n",
    "# implemente la función de derivada parcial para derivar f_i(y) \n",
    "# respecto a x_j, evaluada en y.\n",
    "\n",
    "def DerivadaParcial(ind,jd,y):\n",
    "    \n",
    "    DeltaY = 1*10**(-6)\n",
    "    ynew = []\n",
    "    yold = []\n",
    "    for i in range(len(y)):\n",
    "        ynew.append(y[i])\n",
    "        yold.append(y[i])\n",
    "    ynew[jd] = ynew[jd]+DeltaY\n",
    "    \n",
    "    ## Derivada Parcial DP\n",
    "    # Escoge le función a derivar, suma el paso solo en componente donde se hace la derivada parcial y hace \n",
    "    # la aproximación a la derivada.\n",
    "    \n",
    "    if ind == 1:\n",
    "        DP = (f_1(ynew) - f_1(yold))/DeltaY\n",
    "        return DP\n",
    "    if ind == 2:\n",
    "        DP = (f_2(ynew)-f_2(yold))/DeltaY\n",
    "        return DP\n",
    "    if ind == 3:\n",
    "        DP = (f_3(ynew)-f_3(yold))/DeltaY\n",
    "        return DP\n",
    "    if ind == 4:\n",
    "        DP = (f_4(ynew)-f_4(yold))/DeltaY\n",
    "        return DP\n",
    "    if ind == 5:\n",
    "        DP = (f_5(ynew)-f_5(yold))/DeltaY\n",
    "        return DP\n",
    "    if ind == 6:\n",
    "        DP = (f_6(ynew)-f_6(yold))/DeltaY\n",
    "        return DP\n",
    "    if ind == 7:\n",
    "        DP = (f_7(ynew)-f_7(yold))/DeltaY\n",
    "        return DP\n",
    "    if ind == 8:\n",
    "        DP = (f_8(ynew)-f_8(yold))/DeltaY\n",
    "        return DP\n",
    "    if ind == 9:\n",
    "        DP = (f_9(ynew)-f_9(yold))/DeltaY\n",
    "        return DP\n",
    "    "
   ]
  },
  {
   "cell_type": "code",
   "execution_count": 8,
   "metadata": {},
   "outputs": [
    {
     "name": "stdout",
     "output_type": "stream",
     "text": [
      "Matriz de derivadas parciales\n",
      "[[ 0.00000000e+00  0.00000000e+00  0.00000000e+00  4.00000000e+00\n",
      "   4.00000000e+00  4.00000000e+00  0.00000000e+00  0.00000000e+00\n",
      "   0.00000000e+00]\n",
      " [ 4.00000000e+00  4.00000000e+00 -4.00000000e+00  0.00000000e+00\n",
      "   0.00000000e+00  0.00000000e+00  0.00000000e+00  0.00000000e+00\n",
      "   0.00000000e+00]\n",
      " [ 1.00000000e+01  0.00000000e+00  0.00000000e+00  0.00000000e+00\n",
      "   0.00000000e+00  0.00000000e+00  9.99999999e-01  0.00000000e+00\n",
      "   0.00000000e+00]\n",
      " [ 0.00000000e+00  0.00000000e+00  0.00000000e+00  1.00000000e+01\n",
      "   0.00000000e+00  0.00000000e+00  0.00000000e+00 -1.00000000e+00\n",
      "   0.00000000e+00]\n",
      " [ 0.00000000e+00  0.00000000e+00  2.00000000e+01  0.00000000e+00\n",
      "   0.00000000e+00  0.00000000e+00  0.00000000e+00  0.00000000e+00\n",
      "   1.00000000e+00]\n",
      " [ 0.00000000e+00  0.00000000e+00  0.00000000e+00  0.00000000e+00\n",
      "   0.00000000e+00 -2.00000000e+01  0.00000000e+00  1.00000000e+00\n",
      "   0.00000000e+00]\n",
      " [ 2.00000100e+00  0.00000000e+00  0.00000000e+00  1.00008890e-06\n",
      "   0.00000000e+00  0.00000000e+00  0.00000000e+00  0.00000000e+00\n",
      "   0.00000000e+00]\n",
      " [ 0.00000000e+00  1.00008890e-06  0.00000000e+00  0.00000000e+00\n",
      "   2.00000100e+00  0.00000000e+00  0.00000000e+00  0.00000000e+00\n",
      "   0.00000000e+00]\n",
      " [ 0.00000000e+00  0.00000000e+00  2.00000100e+00  0.00000000e+00\n",
      "   0.00000000e+00  1.00008890e-06  0.00000000e+00  0.00000000e+00\n",
      "   0.00000000e+00]]\n",
      "\n",
      "Jacobiano\n",
      "[[-8.33407001e-08 -4.16740337e-14  0.00000000e+00 -1.66681400e-08\n",
      "   5.29519894e-31 -1.66681400e-08  4.99999750e-01  1.66681317e-07\n",
      "  -8.33480257e-14]\n",
      " [ 4.16703500e-08  2.50000000e-01 -5.61044902e-18  3.33362800e-08\n",
      "  -5.49828041e-18  3.33362800e-08 -4.99999750e-01 -8.33406584e-08\n",
      "   4.99999750e-01]\n",
      " [-4.16703500e-08 -2.08370169e-14 -5.08138189e-31  1.66681400e-08\n",
      "  -5.49828041e-18  1.66681400e-08  4.16740129e-14  8.33406584e-08\n",
      "   4.99999750e-01]\n",
      " [ 1.66666667e-01  8.33407001e-08  2.03237309e-24  3.33333333e-02\n",
      "  -1.05894618e-24  3.33333333e-02 -1.66681317e-07 -3.33333167e-01\n",
      "   1.66681317e-07]\n",
      " [-2.08490627e-14 -1.25011050e-07 -3.04855964e-24 -1.66723117e-14\n",
      "   1.58841926e-24 -1.66723117e-14  2.50021975e-07  4.99999750e-01\n",
      "  -2.50021975e-07]\n",
      " [ 8.33333333e-02  4.16703500e-08  1.01618655e-24 -3.33333333e-02\n",
      "  -5.29473088e-25 -3.33333333e-02 -8.33406584e-08 -1.66666583e-01\n",
      "   8.33406584e-08]\n",
      " [ 8.33407001e-07  4.16740337e-13  1.00000000e+00  1.66681400e-07\n",
      "  -5.29519894e-30  1.66681400e-07 -4.99999750e+00 -1.66681317e-06\n",
      "   8.33480258e-13]\n",
      " [ 1.66666667e+00  8.33407001e-07  2.03237309e-23 -6.66666667e-01\n",
      "  -1.05894618e-23  3.33333333e-01 -1.66681317e-06 -3.33333167e+00\n",
      "   1.66681317e-06]\n",
      " [ 8.33407000e-07  4.16740337e-13  1.01627638e-29 -3.33362800e-07\n",
      "   9.99999999e-01 -3.33362800e-07 -8.33480257e-13 -1.66681317e-06\n",
      "  -9.99999499e+00]]\n"
     ]
    }
   ],
   "source": [
    "# 1.f (10 puntos)\n",
    "# Usando la función de derivadas, implemente F como sugiere el libro\n",
    "# y calcule el Jacobiano como la inversa de F.\n",
    "\n",
    "F = np.zeros([9,9])\n",
    "for i in range(9):\n",
    "    for j in range(9):\n",
    "        F[i,j] = DerivadaParcial(i+1,j,y)\n",
    "\n",
    "print(\"Matriz de derivadas parciales\")\n",
    "print(F)\n",
    "print(\"\")\n",
    "print(\"Jacobiano\")\n",
    "Jacobiano = np.linalg.inv(F)\n",
    "print(Jacobiano)\n"
   ]
  },
  {
   "cell_type": "code",
   "execution_count": 9,
   "metadata": {},
   "outputs": [
    {
     "name": "stdout",
     "output_type": "stream",
     "text": [
      "DeltaY \n",
      "\n",
      "[0. 0. 0. 0. 0. 0. 0. 0. 0.]\n",
      " \n",
      "No cambia porque empezamos con la solución al problema\n"
     ]
    }
   ],
   "source": [
    "# 1.g (10 puntos)\n",
    "\n",
    "DeltaYg = np.dot(-Jacobiano,vec)\n",
    "\n",
    "print ( \"DeltaY \\n\")\n",
    "print(DeltaYg)\n",
    "print(\" \")\n",
    "print(\"No cambia porque empezamos con la solución al problema\")"
   ]
  },
  {
   "cell_type": "code",
   "execution_count": 10,
   "metadata": {},
   "outputs": [],
   "source": [
    "#1.h (10 puntos)\n",
    "# Calcule y_new a partir de y y delta y\n",
    "y = y + DeltaYg "
   ]
  },
  {
   "cell_type": "code",
   "execution_count": 11,
   "metadata": {},
   "outputs": [
    {
     "data": {
      "text/plain": [
       "array([ 1.,  0.,  1.,  0.,  1.,  0., 10.,  0., 20.])"
      ]
     },
     "execution_count": 11,
     "metadata": {},
     "output_type": "execute_result"
    }
   ],
   "source": [
    "y"
   ]
  },
  {
   "cell_type": "code",
   "execution_count": 12,
   "metadata": {},
   "outputs": [
    {
     "name": "stdout",
     "output_type": "stream",
     "text": [
      "[0. 0. 0. 0. 0. 0. 0. 0. 0.]\n",
      "No cambió el vector de solución debido a que los valores quderaon intactos al calcular el cambio o paso de y\n"
     ]
    }
   ],
   "source": [
    "#1.i (10 puntos)\n",
    "# Compare f(y) con f(y_new). ¿Mejoró, empeoró o se quedó igual?\n",
    "print(f_vec(y))\n",
    "print(\"No cambió el vector de solución debido a que los valores quderaon intactos al calcular el cambio o paso de y\")"
   ]
  },
  {
   "cell_type": "code",
   "execution_count": 13,
   "metadata": {},
   "outputs": [],
   "source": [
    "# 1.j (50 puntos si todo funciona bien) \n",
    "# Escriba una función que realice varias iteraciones\n",
    "# delta y = - Jacobiano * f(y)\n",
    "# y_new = y + delta y\n",
    "# y = y_new\n",
    "# y se detenga cuando el valor absoluto de todos \n",
    "# los nueve elementos de f(y) sean menores que epsilon\n",
    "# Imprima el número de pasos realizados\n",
    "\n",
    "def NR_Multidimensional(yind):\n",
    "    \n",
    "    error = 1*10**(-6)\n",
    "    # Parámetro para medir si todos los valores del vector cumplen con el error esperado\n",
    "    a = 0\n",
    "    \n",
    "    while a == 0:\n",
    "        \n",
    "        F = np.zeros([9,9])\n",
    "        for i in range(9):\n",
    "            for j in range(9):\n",
    "                F[i,j] = DerivadaParcial(i+1,j,yind)\n",
    "    \n",
    "        Vec = f_vec(yind)\n",
    "            \n",
    "        Jacobiano = np.linalg.inv(F)\n",
    "        DeltaYg = np.dot(Jacobiano,Vec)\n",
    "    \n",
    "        yind = yind + DeltaYg\n",
    "        Vec = f_vec(yind)\n",
    "        \n",
    "        # Verificar que todos los valores del vector sean menores a epsilon\n",
    "        a = 1\n",
    "        for i in range(len(Vec)):\n",
    "            if Vec[i]<error and Vec[i]> (-error):\n",
    "                a = a*1\n",
    "            else:\n",
    "                a = a*0\n",
    "        \n",
    "    return yind, Vec"
   ]
  },
  {
   "cell_type": "code",
   "execution_count": 14,
   "metadata": {},
   "outputs": [],
   "source": [
    "# Haga el experimento casero para calcular la solución \n",
    "# con las condiciones propuestas en el libro\n",
    "# Condiciones de prueba: masas colgando CON tensión T2\n",
    "L, L1, L2, L3  = 8, 3, 4, 4  # Longitudes\n",
    "W1, W2         = 10, 20      # Pesos"
   ]
  },
  {
   "cell_type": "code",
   "execution_count": 15,
   "metadata": {},
   "outputs": [
    {
     "name": "stdout",
     "output_type": "stream",
     "text": [
      "[0.7071067811865475, 0.49999999999999994, 0.8660254037844386, 0.7071067811865476, 0.7071067811865476, 0.7071067811865476, 10, 12, 15]\n"
     ]
    }
   ],
   "source": [
    "# Condiciones iniciales del problema\n",
    "x1 = np.sin(np.pi/4)\n",
    "x2 = np.sin(np.pi/6)\n",
    "x3 = np.sin(np.pi/3)\n",
    "x4 = np.cos(np.pi/4)\n",
    "x5 = np.cos(np.pi/4)\n",
    "x6 = np.cos(np.pi/4)\n",
    "x7 = 10\n",
    "x8 = 12\n",
    "x9 = 15\n",
    "\n",
    "# Vector y para la primera iteración\n",
    "y2 = [x1,x2,x3,x4,x5,x6,x7,x8,x9]\n",
    "print(y2)"
   ]
  },
  {
   "cell_type": "code",
   "execution_count": 16,
   "metadata": {},
   "outputs": [
    {
     "ename": "LinAlgError",
     "evalue": "Singular matrix",
     "output_type": "error",
     "traceback": [
      "\u001b[0;31m---------------------------------------------------------------------------\u001b[0m",
      "\u001b[0;31mLinAlgError\u001b[0m                               Traceback (most recent call last)",
      "\u001b[0;32m<ipython-input-16-4be70d5bec2b>\u001b[0m in \u001b[0;36m<module>\u001b[0;34m()\u001b[0m\n\u001b[1;32m      1\u001b[0m \u001b[0;31m# Ahora Buscamos la solución usando el método de Newton-Rhapson Multidimensional\u001b[0m\u001b[0;34m\u001b[0m\u001b[0;34m\u001b[0m\u001b[0m\n\u001b[0;32m----> 2\u001b[0;31m \u001b[0mNR_Multidimensional\u001b[0m\u001b[0;34m(\u001b[0m\u001b[0my2\u001b[0m\u001b[0;34m)\u001b[0m\u001b[0;34m\u001b[0m\u001b[0m\n\u001b[0m",
      "\u001b[0;32m<ipython-input-13-ae50574aed58>\u001b[0m in \u001b[0;36mNR_Multidimensional\u001b[0;34m(yind)\u001b[0m\n\u001b[1;32m     23\u001b[0m         \u001b[0mVec\u001b[0m \u001b[0;34m=\u001b[0m \u001b[0mf_vec\u001b[0m\u001b[0;34m(\u001b[0m\u001b[0myind\u001b[0m\u001b[0;34m)\u001b[0m\u001b[0;34m\u001b[0m\u001b[0m\n\u001b[1;32m     24\u001b[0m \u001b[0;34m\u001b[0m\u001b[0m\n\u001b[0;32m---> 25\u001b[0;31m         \u001b[0mJacobiano\u001b[0m \u001b[0;34m=\u001b[0m \u001b[0mnp\u001b[0m\u001b[0;34m.\u001b[0m\u001b[0mlinalg\u001b[0m\u001b[0;34m.\u001b[0m\u001b[0minv\u001b[0m\u001b[0;34m(\u001b[0m\u001b[0mF\u001b[0m\u001b[0;34m)\u001b[0m\u001b[0;34m\u001b[0m\u001b[0m\n\u001b[0m\u001b[1;32m     26\u001b[0m         \u001b[0mDeltaYg\u001b[0m \u001b[0;34m=\u001b[0m \u001b[0mnp\u001b[0m\u001b[0;34m.\u001b[0m\u001b[0mdot\u001b[0m\u001b[0;34m(\u001b[0m\u001b[0mJacobiano\u001b[0m\u001b[0;34m,\u001b[0m\u001b[0mVec\u001b[0m\u001b[0;34m)\u001b[0m\u001b[0;34m\u001b[0m\u001b[0m\n\u001b[1;32m     27\u001b[0m \u001b[0;34m\u001b[0m\u001b[0m\n",
      "\u001b[0;32m~/anaconda3/lib/python3.6/site-packages/numpy/linalg/linalg.py\u001b[0m in \u001b[0;36minv\u001b[0;34m(a)\u001b[0m\n\u001b[1;32m    526\u001b[0m     \u001b[0msignature\u001b[0m \u001b[0;34m=\u001b[0m \u001b[0;34m'D->D'\u001b[0m \u001b[0;32mif\u001b[0m \u001b[0misComplexType\u001b[0m\u001b[0;34m(\u001b[0m\u001b[0mt\u001b[0m\u001b[0;34m)\u001b[0m \u001b[0;32melse\u001b[0m \u001b[0;34m'd->d'\u001b[0m\u001b[0;34m\u001b[0m\u001b[0m\n\u001b[1;32m    527\u001b[0m     \u001b[0mextobj\u001b[0m \u001b[0;34m=\u001b[0m \u001b[0mget_linalg_error_extobj\u001b[0m\u001b[0;34m(\u001b[0m\u001b[0m_raise_linalgerror_singular\u001b[0m\u001b[0;34m)\u001b[0m\u001b[0;34m\u001b[0m\u001b[0m\n\u001b[0;32m--> 528\u001b[0;31m     \u001b[0mainv\u001b[0m \u001b[0;34m=\u001b[0m \u001b[0m_umath_linalg\u001b[0m\u001b[0;34m.\u001b[0m\u001b[0minv\u001b[0m\u001b[0;34m(\u001b[0m\u001b[0ma\u001b[0m\u001b[0;34m,\u001b[0m \u001b[0msignature\u001b[0m\u001b[0;34m=\u001b[0m\u001b[0msignature\u001b[0m\u001b[0;34m,\u001b[0m \u001b[0mextobj\u001b[0m\u001b[0;34m=\u001b[0m\u001b[0mextobj\u001b[0m\u001b[0;34m)\u001b[0m\u001b[0;34m\u001b[0m\u001b[0m\n\u001b[0m\u001b[1;32m    529\u001b[0m     \u001b[0;32mreturn\u001b[0m \u001b[0mwrap\u001b[0m\u001b[0;34m(\u001b[0m\u001b[0mainv\u001b[0m\u001b[0;34m.\u001b[0m\u001b[0mastype\u001b[0m\u001b[0;34m(\u001b[0m\u001b[0mresult_t\u001b[0m\u001b[0;34m,\u001b[0m \u001b[0mcopy\u001b[0m\u001b[0;34m=\u001b[0m\u001b[0;32mFalse\u001b[0m\u001b[0;34m)\u001b[0m\u001b[0;34m)\u001b[0m\u001b[0;34m\u001b[0m\u001b[0m\n\u001b[1;32m    530\u001b[0m \u001b[0;34m\u001b[0m\u001b[0m\n",
      "\u001b[0;32m~/anaconda3/lib/python3.6/site-packages/numpy/linalg/linalg.py\u001b[0m in \u001b[0;36m_raise_linalgerror_singular\u001b[0;34m(err, flag)\u001b[0m\n\u001b[1;32m     87\u001b[0m \u001b[0;34m\u001b[0m\u001b[0m\n\u001b[1;32m     88\u001b[0m \u001b[0;32mdef\u001b[0m \u001b[0m_raise_linalgerror_singular\u001b[0m\u001b[0;34m(\u001b[0m\u001b[0merr\u001b[0m\u001b[0;34m,\u001b[0m \u001b[0mflag\u001b[0m\u001b[0;34m)\u001b[0m\u001b[0;34m:\u001b[0m\u001b[0;34m\u001b[0m\u001b[0m\n\u001b[0;32m---> 89\u001b[0;31m     \u001b[0;32mraise\u001b[0m \u001b[0mLinAlgError\u001b[0m\u001b[0;34m(\u001b[0m\u001b[0;34m\"Singular matrix\"\u001b[0m\u001b[0;34m)\u001b[0m\u001b[0;34m\u001b[0m\u001b[0m\n\u001b[0m\u001b[1;32m     90\u001b[0m \u001b[0;34m\u001b[0m\u001b[0m\n\u001b[1;32m     91\u001b[0m \u001b[0;32mdef\u001b[0m \u001b[0m_raise_linalgerror_nonposdef\u001b[0m\u001b[0;34m(\u001b[0m\u001b[0merr\u001b[0m\u001b[0;34m,\u001b[0m \u001b[0mflag\u001b[0m\u001b[0;34m)\u001b[0m\u001b[0;34m:\u001b[0m\u001b[0;34m\u001b[0m\u001b[0m\n",
      "\u001b[0;31mLinAlgError\u001b[0m: Singular matrix"
     ]
    }
   ],
   "source": [
    "# Ahora Buscamos la solución usando el método de Newton-Rhapson Multidimensional\n",
    "NR_Multidimensional(y2)"
   ]
  },
  {
   "cell_type": "code",
   "execution_count": null,
   "metadata": {},
   "outputs": [],
   "source": [
    "\n",
    "    \n",
    "    "
   ]
  },
  {
   "cell_type": "code",
   "execution_count": null,
   "metadata": {},
   "outputs": [],
   "source": []
  },
  {
   "cell_type": "code",
   "execution_count": null,
   "metadata": {},
   "outputs": [],
   "source": []
  },
  {
   "cell_type": "code",
   "execution_count": null,
   "metadata": {},
   "outputs": [],
   "source": []
  },
  {
   "cell_type": "code",
   "execution_count": null,
   "metadata": {},
   "outputs": [],
   "source": []
  },
  {
   "cell_type": "code",
   "execution_count": null,
   "metadata": {},
   "outputs": [],
   "source": []
  },
  {
   "cell_type": "code",
   "execution_count": null,
   "metadata": {},
   "outputs": [],
   "source": []
  },
  {
   "cell_type": "code",
   "execution_count": null,
   "metadata": {},
   "outputs": [],
   "source": []
  },
  {
   "cell_type": "code",
   "execution_count": null,
   "metadata": {},
   "outputs": [],
   "source": []
  },
  {
   "cell_type": "code",
   "execution_count": null,
   "metadata": {},
   "outputs": [],
   "source": []
  },
  {
   "cell_type": "code",
   "execution_count": null,
   "metadata": {},
   "outputs": [],
   "source": []
  },
  {
   "cell_type": "code",
   "execution_count": null,
   "metadata": {},
   "outputs": [],
   "source": []
  }
 ],
 "metadata": {
  "kernelspec": {
   "display_name": "Python 3",
   "language": "python",
   "name": "python3"
  },
  "language_info": {
   "codemirror_mode": {
    "name": "ipython",
    "version": 3
   },
   "file_extension": ".py",
   "mimetype": "text/x-python",
   "name": "python",
   "nbconvert_exporter": "python",
   "pygments_lexer": "ipython3",
   "version": "3.6.4"
  }
 },
 "nbformat": 4,
 "nbformat_minor": 2
}
